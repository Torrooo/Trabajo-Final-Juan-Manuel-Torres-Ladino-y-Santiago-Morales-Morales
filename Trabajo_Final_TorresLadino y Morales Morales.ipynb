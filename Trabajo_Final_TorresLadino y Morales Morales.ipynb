{
  "nbformat": 4,
  "nbformat_minor": 0,
  "metadata": {
    "colab": {
      "provenance": []
    },
    "kernelspec": {
      "name": "python3",
      "display_name": "Python 3"
    },
    "language_info": {
      "name": "python"
    }
  },
  "cells": [
    {
      "cell_type": "markdown",
      "source": [
        "Taller final\n",
        "\n",
        "Morales, Santiago\n",
        "\n",
        "Torres, Juan Manuel"
      ],
      "metadata": {
        "id": "m-Zu0kouSJzV"
      }
    },
    {
      "cell_type": "markdown",
      "source": [
        "Para construir portafolios con activos del mercado existen diversas maneras de seleccionar las medidas de desempeño que se desea tener sobre las inversiones.\n",
        "\n",
        "En este proyecto se tiene como fin generar distintos portafolios y por medio de dos métodos distintos aplicados a cada uno de los portafolios observar la similitud de estos. \n",
        "\n",
        "Para este proyecto 5 activos fueron seleccionados: Atlassian (TEAM), Kellogg’s (K), NVIDIA (NVDA), AMD (AMD) y Tesla (TSLA). Se calcularon sus retornos entre los meses de enero de 2018 y diciembre de 2022. \n",
        "\n",
        "Estos activos fueron seleccionados con el supuesto de que en caso de permitir las ventas en corto se apalancarán los 3 mejores entre estos (NVDA, AMD y TSLA) con ventas en corto de los activos que obtuvieron el peor rendimiento (TEAM y K), sin embargo, en estos modelos existe una restricción que no permite los cortos y se observará el comportamiento en este entorno. \n",
        "\n",
        "Los métodos que se van a usar para calcular cada uno de estos son: 1.  usando los precios históricos de las acciones y 2. generar un número aleatorio de portafolios con la finalidad de que el promedio de estos sea similar al método 1.\n",
        "\n",
        "Los objetivos principales del proyecto son:\n",
        "-\tComprobar la similitud de los portafolios al usar dos métodos \n",
        "-\tObservar los cambios que hay entre cada portafolio\n",
        "-\tObservar la distribución de los pesos cuando hay restricciones en los cortos\n",
        "\n"
      ],
      "metadata": {
        "id": "cu5erget8jko"
      }
    },
    {
      "cell_type": "code",
      "execution_count": 1,
      "metadata": {
        "id": "mBiWpcoJRxSB"
      },
      "outputs": [],
      "source": [
        "import numpy as np\n",
        "import pandas as pd\n",
        "import matplotlib.pyplot as plt\n",
        "import cvxpy as cp\n",
        "from scipy import stats\n",
        "from scipy.stats import norm\n",
        "!pip install --quiet yfinance\n",
        "import yfinance as yf\n",
        "import warnings\n",
        "warnings.filterwarnings(\"ignore\")"
      ]
    },
    {
      "cell_type": "code",
      "source": [
        "activos = [\"TEAM\",\"K\",\"NVDA\",\"AMD\",\"TSLA\"] \n",
        "precios = yf.download(activos, start=\"2017-12-01\",end=\"2022-12-31\",interval=\"1Mo\")['Adj Close']\n",
        "retornos = np.log(precios/precios.shift()).dropna()\n",
        "mu = retornos.mean()\n",
        "cov = retornos.cov()\n",
        "sigma = retornos.std()"
      ],
      "metadata": {
        "colab": {
          "base_uri": "https://localhost:8080/"
        },
        "id": "OTBOB1LgRyA-",
        "outputId": "6a11c805-3435-4fb3-af18-def9e6689174"
      },
      "execution_count": 2,
      "outputs": [
        {
          "output_type": "stream",
          "name": "stdout",
          "text": [
            "[*********************100%***********************]  5 of 5 completed\n"
          ]
        }
      ]
    },
    {
      "cell_type": "code",
      "source": [
        "pd.DataFrame(precios)"
      ],
      "metadata": {
        "colab": {
          "base_uri": "https://localhost:8080/",
          "height": 455
        },
        "id": "QMVZ6YCNUHD7",
        "outputId": "aaf09e3b-4083-4e7f-df22-9c6f867a685b"
      },
      "execution_count": null,
      "outputs": [
        {
          "output_type": "execute_result",
          "data": {
            "text/plain": [
              "                  AMD          K        NVDA        TEAM        TSLA\n",
              "Date                                                                \n",
              "2017-12-01  10.280000  56.421368   47.878796   45.520000   20.756666\n",
              "2018-01-01  13.740000  56.529278   60.819675   53.990002   23.620667\n",
              "2018-02-01  12.110000  54.944023   59.879421   54.290001   22.870667\n",
              "2018-03-01  10.050000  53.956375   57.339237   53.919998   17.742001\n",
              "2018-04-01  10.880000  49.282986   55.682861   55.980000   19.593332\n",
              "...               ...        ...         ...         ...         ...\n",
              "2022-08-01  84.870003  70.940269  150.830948  247.660004  275.609985\n",
              "2022-09-01  63.360001  68.488503  121.302292  210.589996  265.250000\n",
              "2022-10-01  60.060001  75.528091  134.912567  202.729996  227.539993\n",
              "2022-11-01  77.629997  71.723167  169.157990  131.550003  194.699997\n",
              "2022-12-01  64.769997  70.617401  146.115189  128.679993  123.180000\n",
              "\n",
              "[61 rows x 5 columns]"
            ],
            "text/html": [
              "\n",
              "  <div id=\"df-e91885e3-d220-411a-a5ac-d578e6b9203e\">\n",
              "    <div class=\"colab-df-container\">\n",
              "      <div>\n",
              "<style scoped>\n",
              "    .dataframe tbody tr th:only-of-type {\n",
              "        vertical-align: middle;\n",
              "    }\n",
              "\n",
              "    .dataframe tbody tr th {\n",
              "        vertical-align: top;\n",
              "    }\n",
              "\n",
              "    .dataframe thead th {\n",
              "        text-align: right;\n",
              "    }\n",
              "</style>\n",
              "<table border=\"1\" class=\"dataframe\">\n",
              "  <thead>\n",
              "    <tr style=\"text-align: right;\">\n",
              "      <th></th>\n",
              "      <th>AMD</th>\n",
              "      <th>K</th>\n",
              "      <th>NVDA</th>\n",
              "      <th>TEAM</th>\n",
              "      <th>TSLA</th>\n",
              "    </tr>\n",
              "    <tr>\n",
              "      <th>Date</th>\n",
              "      <th></th>\n",
              "      <th></th>\n",
              "      <th></th>\n",
              "      <th></th>\n",
              "      <th></th>\n",
              "    </tr>\n",
              "  </thead>\n",
              "  <tbody>\n",
              "    <tr>\n",
              "      <th>2017-12-01</th>\n",
              "      <td>10.280000</td>\n",
              "      <td>56.421368</td>\n",
              "      <td>47.878796</td>\n",
              "      <td>45.520000</td>\n",
              "      <td>20.756666</td>\n",
              "    </tr>\n",
              "    <tr>\n",
              "      <th>2018-01-01</th>\n",
              "      <td>13.740000</td>\n",
              "      <td>56.529278</td>\n",
              "      <td>60.819675</td>\n",
              "      <td>53.990002</td>\n",
              "      <td>23.620667</td>\n",
              "    </tr>\n",
              "    <tr>\n",
              "      <th>2018-02-01</th>\n",
              "      <td>12.110000</td>\n",
              "      <td>54.944023</td>\n",
              "      <td>59.879421</td>\n",
              "      <td>54.290001</td>\n",
              "      <td>22.870667</td>\n",
              "    </tr>\n",
              "    <tr>\n",
              "      <th>2018-03-01</th>\n",
              "      <td>10.050000</td>\n",
              "      <td>53.956375</td>\n",
              "      <td>57.339237</td>\n",
              "      <td>53.919998</td>\n",
              "      <td>17.742001</td>\n",
              "    </tr>\n",
              "    <tr>\n",
              "      <th>2018-04-01</th>\n",
              "      <td>10.880000</td>\n",
              "      <td>49.282986</td>\n",
              "      <td>55.682861</td>\n",
              "      <td>55.980000</td>\n",
              "      <td>19.593332</td>\n",
              "    </tr>\n",
              "    <tr>\n",
              "      <th>...</th>\n",
              "      <td>...</td>\n",
              "      <td>...</td>\n",
              "      <td>...</td>\n",
              "      <td>...</td>\n",
              "      <td>...</td>\n",
              "    </tr>\n",
              "    <tr>\n",
              "      <th>2022-08-01</th>\n",
              "      <td>84.870003</td>\n",
              "      <td>70.940269</td>\n",
              "      <td>150.830948</td>\n",
              "      <td>247.660004</td>\n",
              "      <td>275.609985</td>\n",
              "    </tr>\n",
              "    <tr>\n",
              "      <th>2022-09-01</th>\n",
              "      <td>63.360001</td>\n",
              "      <td>68.488503</td>\n",
              "      <td>121.302292</td>\n",
              "      <td>210.589996</td>\n",
              "      <td>265.250000</td>\n",
              "    </tr>\n",
              "    <tr>\n",
              "      <th>2022-10-01</th>\n",
              "      <td>60.060001</td>\n",
              "      <td>75.528091</td>\n",
              "      <td>134.912567</td>\n",
              "      <td>202.729996</td>\n",
              "      <td>227.539993</td>\n",
              "    </tr>\n",
              "    <tr>\n",
              "      <th>2022-11-01</th>\n",
              "      <td>77.629997</td>\n",
              "      <td>71.723167</td>\n",
              "      <td>169.157990</td>\n",
              "      <td>131.550003</td>\n",
              "      <td>194.699997</td>\n",
              "    </tr>\n",
              "    <tr>\n",
              "      <th>2022-12-01</th>\n",
              "      <td>64.769997</td>\n",
              "      <td>70.617401</td>\n",
              "      <td>146.115189</td>\n",
              "      <td>128.679993</td>\n",
              "      <td>123.180000</td>\n",
              "    </tr>\n",
              "  </tbody>\n",
              "</table>\n",
              "<p>61 rows × 5 columns</p>\n",
              "</div>\n",
              "      <button class=\"colab-df-convert\" onclick=\"convertToInteractive('df-e91885e3-d220-411a-a5ac-d578e6b9203e')\"\n",
              "              title=\"Convert this dataframe to an interactive table.\"\n",
              "              style=\"display:none;\">\n",
              "        \n",
              "  <svg xmlns=\"http://www.w3.org/2000/svg\" height=\"24px\"viewBox=\"0 0 24 24\"\n",
              "       width=\"24px\">\n",
              "    <path d=\"M0 0h24v24H0V0z\" fill=\"none\"/>\n",
              "    <path d=\"M18.56 5.44l.94 2.06.94-2.06 2.06-.94-2.06-.94-.94-2.06-.94 2.06-2.06.94zm-11 1L8.5 8.5l.94-2.06 2.06-.94-2.06-.94L8.5 2.5l-.94 2.06-2.06.94zm10 10l.94 2.06.94-2.06 2.06-.94-2.06-.94-.94-2.06-.94 2.06-2.06.94z\"/><path d=\"M17.41 7.96l-1.37-1.37c-.4-.4-.92-.59-1.43-.59-.52 0-1.04.2-1.43.59L10.3 9.45l-7.72 7.72c-.78.78-.78 2.05 0 2.83L4 21.41c.39.39.9.59 1.41.59.51 0 1.02-.2 1.41-.59l7.78-7.78 2.81-2.81c.8-.78.8-2.07 0-2.86zM5.41 20L4 18.59l7.72-7.72 1.47 1.35L5.41 20z\"/>\n",
              "  </svg>\n",
              "      </button>\n",
              "      \n",
              "  <style>\n",
              "    .colab-df-container {\n",
              "      display:flex;\n",
              "      flex-wrap:wrap;\n",
              "      gap: 12px;\n",
              "    }\n",
              "\n",
              "    .colab-df-convert {\n",
              "      background-color: #E8F0FE;\n",
              "      border: none;\n",
              "      border-radius: 50%;\n",
              "      cursor: pointer;\n",
              "      display: none;\n",
              "      fill: #1967D2;\n",
              "      height: 32px;\n",
              "      padding: 0 0 0 0;\n",
              "      width: 32px;\n",
              "    }\n",
              "\n",
              "    .colab-df-convert:hover {\n",
              "      background-color: #E2EBFA;\n",
              "      box-shadow: 0px 1px 2px rgba(60, 64, 67, 0.3), 0px 1px 3px 1px rgba(60, 64, 67, 0.15);\n",
              "      fill: #174EA6;\n",
              "    }\n",
              "\n",
              "    [theme=dark] .colab-df-convert {\n",
              "      background-color: #3B4455;\n",
              "      fill: #D2E3FC;\n",
              "    }\n",
              "\n",
              "    [theme=dark] .colab-df-convert:hover {\n",
              "      background-color: #434B5C;\n",
              "      box-shadow: 0px 1px 3px 1px rgba(0, 0, 0, 0.15);\n",
              "      filter: drop-shadow(0px 1px 2px rgba(0, 0, 0, 0.3));\n",
              "      fill: #FFFFFF;\n",
              "    }\n",
              "  </style>\n",
              "\n",
              "      <script>\n",
              "        const buttonEl =\n",
              "          document.querySelector('#df-e91885e3-d220-411a-a5ac-d578e6b9203e button.colab-df-convert');\n",
              "        buttonEl.style.display =\n",
              "          google.colab.kernel.accessAllowed ? 'block' : 'none';\n",
              "\n",
              "        async function convertToInteractive(key) {\n",
              "          const element = document.querySelector('#df-e91885e3-d220-411a-a5ac-d578e6b9203e');\n",
              "          const dataTable =\n",
              "            await google.colab.kernel.invokeFunction('convertToInteractive',\n",
              "                                                     [key], {});\n",
              "          if (!dataTable) return;\n",
              "\n",
              "          const docLinkHtml = 'Like what you see? Visit the ' +\n",
              "            '<a target=\"_blank\" href=https://colab.research.google.com/notebooks/data_table.ipynb>data table notebook</a>'\n",
              "            + ' to learn more about interactive tables.';\n",
              "          element.innerHTML = '';\n",
              "          dataTable['output_type'] = 'display_data';\n",
              "          await google.colab.output.renderOutput(dataTable, element);\n",
              "          const docLink = document.createElement('div');\n",
              "          docLink.innerHTML = docLinkHtml;\n",
              "          element.appendChild(docLink);\n",
              "        }\n",
              "      </script>\n",
              "    </div>\n",
              "  </div>\n",
              "  "
            ]
          },
          "metadata": {},
          "execution_count": 207
        }
      ]
    },
    {
      "cell_type": "code",
      "source": [
        "pd.DataFrame(retornos)"
      ],
      "metadata": {
        "colab": {
          "base_uri": "https://localhost:8080/",
          "height": 1000
        },
        "id": "-uUw7MYuUJBL",
        "outputId": "032d06b7-736c-4bef-a174-4fd957fefc52"
      },
      "execution_count": null,
      "outputs": [
        {
          "output_type": "execute_result",
          "data": {
            "text/plain": [
              "                 AMD         K      NVDA      TEAM      TSLA\n",
              "Date                                                        \n",
              "2018-01-01  0.290111  0.001911  0.239241  0.170647  0.129255\n",
              "2018-02-01 -0.126280 -0.028444 -0.015580  0.005541 -0.032267\n",
              "2018-03-01 -0.186459 -0.018139 -0.043348 -0.006839 -0.253920\n",
              "2018-04-01  0.079354 -0.090597 -0.029313  0.037493  0.099255\n",
              "2018-05-01  0.232657  0.089117  0.114527  0.130602 -0.031698\n",
              "2018-06-01  0.087800  0.089897 -0.061926 -0.020110  0.186043\n",
              "2018-07-01  0.201156  0.016466  0.033049  0.146858 -0.140021\n",
              "2018-08-01  0.317114  0.010643  0.136528  0.217576  0.011737\n",
              "2018-09-01  0.204780 -0.017129  0.001758  0.065885 -0.130439\n",
              "2018-10-01 -0.528462 -0.067036 -0.287374 -0.236257  0.242171\n",
              "2018-11-01  0.156736 -0.028346 -0.254667  0.124101  0.038272\n",
              "2018-12-01 -0.143101 -0.101279 -0.201283  0.034762 -0.051762\n",
              "2019-01-01  0.279387  0.034480  0.073974  0.100629 -0.080629\n",
              "2019-02-01 -0.036717 -0.047723  0.070564  0.088264  0.041033\n",
              "2019-03-01  0.081186  0.019712  0.152900  0.044670 -0.133656\n",
              "2019-04-01  0.079440  0.059538  0.007987 -0.020132 -0.159124\n",
              "2019-05-01 -0.007994 -0.137377 -0.289820  0.133486 -0.253945\n",
              "2019-06-01  0.102547  0.029843  0.193732  0.038646  0.188012\n",
              "2019-07-01  0.002631  0.083240  0.026973  0.068524  0.078092\n",
              "2019-08-01  0.032313  0.075726 -0.007197 -0.040861 -0.068517\n",
              "2019-09-01 -0.081448  0.033477  0.039404 -0.069811  0.065450\n",
              "2019-10-01  0.157349 -0.012825  0.143947 -0.037774  0.268061\n",
              "2019-11-01  0.143101  0.024720  0.075294  0.050999  0.046592\n",
              "2019-12-01  0.158193  0.068917  0.082900 -0.054732  0.237360\n",
              "2020-01-01  0.024554 -0.013831  0.004791  0.200112  0.441578\n",
              "2020-02-01 -0.032875 -0.120444  0.133029 -0.013975  0.026424\n",
              "2020-03-01  0.000000 -0.007969 -0.023650 -0.054581 -0.242781\n",
              "2020-04-01  0.141443  0.097343  0.103279  0.124705  0.400210\n",
              "2020-05-01  0.026558 -0.002905  0.194462  0.175395  0.065730\n",
              "2020-06-01 -0.022367  0.020169  0.067760 -0.027520  0.257109\n",
              "2020-07-01  0.386468  0.043398  0.111646 -0.020285  0.281421\n",
              "2020-08-01  0.159505  0.027450  0.231105  0.082074  0.554719\n",
              "2020-09-01 -0.102282 -0.085238  0.011597 -0.053392 -0.149762\n",
              "2020-10-01 -0.085250 -0.026672 -0.076202  0.052662 -0.100372\n",
              "2020-11-01  0.207590  0.016089  0.066922  0.160808  0.380309\n",
              "2020-12-01 -0.010306 -0.017619 -0.026196  0.038443  0.217731\n",
              "2021-01-01 -0.068479 -0.054317 -0.004715 -0.011785  0.117344\n",
              "2021-02-01 -0.013283 -0.021090  0.054293  0.028029 -0.161038\n",
              "2021-03-01 -0.073771  0.092455 -0.027069 -0.120289 -0.011270\n",
              "2021-04-01  0.038976 -0.004074  0.117643  0.119700  0.060293\n",
              "2021-05-01 -0.019048  0.048012  0.079071 -0.018181 -0.126372\n",
              "2021-06-01  0.159524 -0.008982  0.208103  0.096292  0.083548\n",
              "2021-07-01  0.122680 -0.015193 -0.025265  0.235663  0.010974\n",
              "2021-08-01  0.041775 -0.003478  0.138028  0.121331  0.068224\n",
              "2021-09-01 -0.073247  0.021503 -0.077308  0.064256  0.052633\n",
              "2021-10-01  0.155649 -0.041852  0.210396  0.157372  0.362230\n",
              "2021-11-01  0.275527 -0.001960  0.245338 -0.196713  0.027238\n",
              "2021-12-01 -0.095815  0.060726 -0.105272  0.013120 -0.079968\n",
              "2022-01-01 -0.230730 -0.022289 -0.183145 -0.161768 -0.120597\n",
              "2022-02-01  0.076556  0.014810 -0.004133 -0.059123 -0.073397\n",
              "2022-03-01 -0.120482  0.017435  0.112405 -0.039668  0.213504\n",
              "2022-04-01 -0.245712  0.060324 -0.385895 -0.267657 -0.213125\n",
              "2022-05-01  0.174849  0.017940  0.006717 -0.237389 -0.138340\n",
              "2022-06-01 -0.286701  0.031026 -0.208431  0.055289 -0.118657\n",
              "2022-07-01  0.211384  0.035526  0.181003  0.110619  0.280480\n",
              "2022-08-01 -0.107162 -0.016092 -0.185089  0.168193 -0.075250\n",
              "2022-09-01 -0.292288 -0.035172 -0.217874 -0.162144 -0.038314\n",
              "2022-10-01 -0.053489  0.097839  0.106341 -0.038038 -0.153347\n",
              "2022-11-01  0.256610 -0.051691  0.226206 -0.432488 -0.155866\n",
              "2022-12-01 -0.181111 -0.015537 -0.146438 -0.022058 -0.457813"
            ],
            "text/html": [
              "\n",
              "  <div id=\"df-15381fde-00a7-4ff6-89cb-e9d4fa37c740\">\n",
              "    <div class=\"colab-df-container\">\n",
              "      <div>\n",
              "<style scoped>\n",
              "    .dataframe tbody tr th:only-of-type {\n",
              "        vertical-align: middle;\n",
              "    }\n",
              "\n",
              "    .dataframe tbody tr th {\n",
              "        vertical-align: top;\n",
              "    }\n",
              "\n",
              "    .dataframe thead th {\n",
              "        text-align: right;\n",
              "    }\n",
              "</style>\n",
              "<table border=\"1\" class=\"dataframe\">\n",
              "  <thead>\n",
              "    <tr style=\"text-align: right;\">\n",
              "      <th></th>\n",
              "      <th>AMD</th>\n",
              "      <th>K</th>\n",
              "      <th>NVDA</th>\n",
              "      <th>TEAM</th>\n",
              "      <th>TSLA</th>\n",
              "    </tr>\n",
              "    <tr>\n",
              "      <th>Date</th>\n",
              "      <th></th>\n",
              "      <th></th>\n",
              "      <th></th>\n",
              "      <th></th>\n",
              "      <th></th>\n",
              "    </tr>\n",
              "  </thead>\n",
              "  <tbody>\n",
              "    <tr>\n",
              "      <th>2018-01-01</th>\n",
              "      <td>0.290111</td>\n",
              "      <td>0.001911</td>\n",
              "      <td>0.239241</td>\n",
              "      <td>0.170647</td>\n",
              "      <td>0.129255</td>\n",
              "    </tr>\n",
              "    <tr>\n",
              "      <th>2018-02-01</th>\n",
              "      <td>-0.126280</td>\n",
              "      <td>-0.028444</td>\n",
              "      <td>-0.015580</td>\n",
              "      <td>0.005541</td>\n",
              "      <td>-0.032267</td>\n",
              "    </tr>\n",
              "    <tr>\n",
              "      <th>2018-03-01</th>\n",
              "      <td>-0.186459</td>\n",
              "      <td>-0.018139</td>\n",
              "      <td>-0.043348</td>\n",
              "      <td>-0.006839</td>\n",
              "      <td>-0.253920</td>\n",
              "    </tr>\n",
              "    <tr>\n",
              "      <th>2018-04-01</th>\n",
              "      <td>0.079354</td>\n",
              "      <td>-0.090597</td>\n",
              "      <td>-0.029313</td>\n",
              "      <td>0.037493</td>\n",
              "      <td>0.099255</td>\n",
              "    </tr>\n",
              "    <tr>\n",
              "      <th>2018-05-01</th>\n",
              "      <td>0.232657</td>\n",
              "      <td>0.089117</td>\n",
              "      <td>0.114527</td>\n",
              "      <td>0.130602</td>\n",
              "      <td>-0.031698</td>\n",
              "    </tr>\n",
              "    <tr>\n",
              "      <th>2018-06-01</th>\n",
              "      <td>0.087800</td>\n",
              "      <td>0.089897</td>\n",
              "      <td>-0.061926</td>\n",
              "      <td>-0.020110</td>\n",
              "      <td>0.186043</td>\n",
              "    </tr>\n",
              "    <tr>\n",
              "      <th>2018-07-01</th>\n",
              "      <td>0.201156</td>\n",
              "      <td>0.016466</td>\n",
              "      <td>0.033049</td>\n",
              "      <td>0.146858</td>\n",
              "      <td>-0.140021</td>\n",
              "    </tr>\n",
              "    <tr>\n",
              "      <th>2018-08-01</th>\n",
              "      <td>0.317114</td>\n",
              "      <td>0.010643</td>\n",
              "      <td>0.136528</td>\n",
              "      <td>0.217576</td>\n",
              "      <td>0.011737</td>\n",
              "    </tr>\n",
              "    <tr>\n",
              "      <th>2018-09-01</th>\n",
              "      <td>0.204780</td>\n",
              "      <td>-0.017129</td>\n",
              "      <td>0.001758</td>\n",
              "      <td>0.065885</td>\n",
              "      <td>-0.130439</td>\n",
              "    </tr>\n",
              "    <tr>\n",
              "      <th>2018-10-01</th>\n",
              "      <td>-0.528462</td>\n",
              "      <td>-0.067036</td>\n",
              "      <td>-0.287374</td>\n",
              "      <td>-0.236257</td>\n",
              "      <td>0.242171</td>\n",
              "    </tr>\n",
              "    <tr>\n",
              "      <th>2018-11-01</th>\n",
              "      <td>0.156736</td>\n",
              "      <td>-0.028346</td>\n",
              "      <td>-0.254667</td>\n",
              "      <td>0.124101</td>\n",
              "      <td>0.038272</td>\n",
              "    </tr>\n",
              "    <tr>\n",
              "      <th>2018-12-01</th>\n",
              "      <td>-0.143101</td>\n",
              "      <td>-0.101279</td>\n",
              "      <td>-0.201283</td>\n",
              "      <td>0.034762</td>\n",
              "      <td>-0.051762</td>\n",
              "    </tr>\n",
              "    <tr>\n",
              "      <th>2019-01-01</th>\n",
              "      <td>0.279387</td>\n",
              "      <td>0.034480</td>\n",
              "      <td>0.073974</td>\n",
              "      <td>0.100629</td>\n",
              "      <td>-0.080629</td>\n",
              "    </tr>\n",
              "    <tr>\n",
              "      <th>2019-02-01</th>\n",
              "      <td>-0.036717</td>\n",
              "      <td>-0.047723</td>\n",
              "      <td>0.070564</td>\n",
              "      <td>0.088264</td>\n",
              "      <td>0.041033</td>\n",
              "    </tr>\n",
              "    <tr>\n",
              "      <th>2019-03-01</th>\n",
              "      <td>0.081186</td>\n",
              "      <td>0.019712</td>\n",
              "      <td>0.152900</td>\n",
              "      <td>0.044670</td>\n",
              "      <td>-0.133656</td>\n",
              "    </tr>\n",
              "    <tr>\n",
              "      <th>2019-04-01</th>\n",
              "      <td>0.079440</td>\n",
              "      <td>0.059538</td>\n",
              "      <td>0.007987</td>\n",
              "      <td>-0.020132</td>\n",
              "      <td>-0.159124</td>\n",
              "    </tr>\n",
              "    <tr>\n",
              "      <th>2019-05-01</th>\n",
              "      <td>-0.007994</td>\n",
              "      <td>-0.137377</td>\n",
              "      <td>-0.289820</td>\n",
              "      <td>0.133486</td>\n",
              "      <td>-0.253945</td>\n",
              "    </tr>\n",
              "    <tr>\n",
              "      <th>2019-06-01</th>\n",
              "      <td>0.102547</td>\n",
              "      <td>0.029843</td>\n",
              "      <td>0.193732</td>\n",
              "      <td>0.038646</td>\n",
              "      <td>0.188012</td>\n",
              "    </tr>\n",
              "    <tr>\n",
              "      <th>2019-07-01</th>\n",
              "      <td>0.002631</td>\n",
              "      <td>0.083240</td>\n",
              "      <td>0.026973</td>\n",
              "      <td>0.068524</td>\n",
              "      <td>0.078092</td>\n",
              "    </tr>\n",
              "    <tr>\n",
              "      <th>2019-08-01</th>\n",
              "      <td>0.032313</td>\n",
              "      <td>0.075726</td>\n",
              "      <td>-0.007197</td>\n",
              "      <td>-0.040861</td>\n",
              "      <td>-0.068517</td>\n",
              "    </tr>\n",
              "    <tr>\n",
              "      <th>2019-09-01</th>\n",
              "      <td>-0.081448</td>\n",
              "      <td>0.033477</td>\n",
              "      <td>0.039404</td>\n",
              "      <td>-0.069811</td>\n",
              "      <td>0.065450</td>\n",
              "    </tr>\n",
              "    <tr>\n",
              "      <th>2019-10-01</th>\n",
              "      <td>0.157349</td>\n",
              "      <td>-0.012825</td>\n",
              "      <td>0.143947</td>\n",
              "      <td>-0.037774</td>\n",
              "      <td>0.268061</td>\n",
              "    </tr>\n",
              "    <tr>\n",
              "      <th>2019-11-01</th>\n",
              "      <td>0.143101</td>\n",
              "      <td>0.024720</td>\n",
              "      <td>0.075294</td>\n",
              "      <td>0.050999</td>\n",
              "      <td>0.046592</td>\n",
              "    </tr>\n",
              "    <tr>\n",
              "      <th>2019-12-01</th>\n",
              "      <td>0.158193</td>\n",
              "      <td>0.068917</td>\n",
              "      <td>0.082900</td>\n",
              "      <td>-0.054732</td>\n",
              "      <td>0.237360</td>\n",
              "    </tr>\n",
              "    <tr>\n",
              "      <th>2020-01-01</th>\n",
              "      <td>0.024554</td>\n",
              "      <td>-0.013831</td>\n",
              "      <td>0.004791</td>\n",
              "      <td>0.200112</td>\n",
              "      <td>0.441578</td>\n",
              "    </tr>\n",
              "    <tr>\n",
              "      <th>2020-02-01</th>\n",
              "      <td>-0.032875</td>\n",
              "      <td>-0.120444</td>\n",
              "      <td>0.133029</td>\n",
              "      <td>-0.013975</td>\n",
              "      <td>0.026424</td>\n",
              "    </tr>\n",
              "    <tr>\n",
              "      <th>2020-03-01</th>\n",
              "      <td>0.000000</td>\n",
              "      <td>-0.007969</td>\n",
              "      <td>-0.023650</td>\n",
              "      <td>-0.054581</td>\n",
              "      <td>-0.242781</td>\n",
              "    </tr>\n",
              "    <tr>\n",
              "      <th>2020-04-01</th>\n",
              "      <td>0.141443</td>\n",
              "      <td>0.097343</td>\n",
              "      <td>0.103279</td>\n",
              "      <td>0.124705</td>\n",
              "      <td>0.400210</td>\n",
              "    </tr>\n",
              "    <tr>\n",
              "      <th>2020-05-01</th>\n",
              "      <td>0.026558</td>\n",
              "      <td>-0.002905</td>\n",
              "      <td>0.194462</td>\n",
              "      <td>0.175395</td>\n",
              "      <td>0.065730</td>\n",
              "    </tr>\n",
              "    <tr>\n",
              "      <th>2020-06-01</th>\n",
              "      <td>-0.022367</td>\n",
              "      <td>0.020169</td>\n",
              "      <td>0.067760</td>\n",
              "      <td>-0.027520</td>\n",
              "      <td>0.257109</td>\n",
              "    </tr>\n",
              "    <tr>\n",
              "      <th>2020-07-01</th>\n",
              "      <td>0.386468</td>\n",
              "      <td>0.043398</td>\n",
              "      <td>0.111646</td>\n",
              "      <td>-0.020285</td>\n",
              "      <td>0.281421</td>\n",
              "    </tr>\n",
              "    <tr>\n",
              "      <th>2020-08-01</th>\n",
              "      <td>0.159505</td>\n",
              "      <td>0.027450</td>\n",
              "      <td>0.231105</td>\n",
              "      <td>0.082074</td>\n",
              "      <td>0.554719</td>\n",
              "    </tr>\n",
              "    <tr>\n",
              "      <th>2020-09-01</th>\n",
              "      <td>-0.102282</td>\n",
              "      <td>-0.085238</td>\n",
              "      <td>0.011597</td>\n",
              "      <td>-0.053392</td>\n",
              "      <td>-0.149762</td>\n",
              "    </tr>\n",
              "    <tr>\n",
              "      <th>2020-10-01</th>\n",
              "      <td>-0.085250</td>\n",
              "      <td>-0.026672</td>\n",
              "      <td>-0.076202</td>\n",
              "      <td>0.052662</td>\n",
              "      <td>-0.100372</td>\n",
              "    </tr>\n",
              "    <tr>\n",
              "      <th>2020-11-01</th>\n",
              "      <td>0.207590</td>\n",
              "      <td>0.016089</td>\n",
              "      <td>0.066922</td>\n",
              "      <td>0.160808</td>\n",
              "      <td>0.380309</td>\n",
              "    </tr>\n",
              "    <tr>\n",
              "      <th>2020-12-01</th>\n",
              "      <td>-0.010306</td>\n",
              "      <td>-0.017619</td>\n",
              "      <td>-0.026196</td>\n",
              "      <td>0.038443</td>\n",
              "      <td>0.217731</td>\n",
              "    </tr>\n",
              "    <tr>\n",
              "      <th>2021-01-01</th>\n",
              "      <td>-0.068479</td>\n",
              "      <td>-0.054317</td>\n",
              "      <td>-0.004715</td>\n",
              "      <td>-0.011785</td>\n",
              "      <td>0.117344</td>\n",
              "    </tr>\n",
              "    <tr>\n",
              "      <th>2021-02-01</th>\n",
              "      <td>-0.013283</td>\n",
              "      <td>-0.021090</td>\n",
              "      <td>0.054293</td>\n",
              "      <td>0.028029</td>\n",
              "      <td>-0.161038</td>\n",
              "    </tr>\n",
              "    <tr>\n",
              "      <th>2021-03-01</th>\n",
              "      <td>-0.073771</td>\n",
              "      <td>0.092455</td>\n",
              "      <td>-0.027069</td>\n",
              "      <td>-0.120289</td>\n",
              "      <td>-0.011270</td>\n",
              "    </tr>\n",
              "    <tr>\n",
              "      <th>2021-04-01</th>\n",
              "      <td>0.038976</td>\n",
              "      <td>-0.004074</td>\n",
              "      <td>0.117643</td>\n",
              "      <td>0.119700</td>\n",
              "      <td>0.060293</td>\n",
              "    </tr>\n",
              "    <tr>\n",
              "      <th>2021-05-01</th>\n",
              "      <td>-0.019048</td>\n",
              "      <td>0.048012</td>\n",
              "      <td>0.079071</td>\n",
              "      <td>-0.018181</td>\n",
              "      <td>-0.126372</td>\n",
              "    </tr>\n",
              "    <tr>\n",
              "      <th>2021-06-01</th>\n",
              "      <td>0.159524</td>\n",
              "      <td>-0.008982</td>\n",
              "      <td>0.208103</td>\n",
              "      <td>0.096292</td>\n",
              "      <td>0.083548</td>\n",
              "    </tr>\n",
              "    <tr>\n",
              "      <th>2021-07-01</th>\n",
              "      <td>0.122680</td>\n",
              "      <td>-0.015193</td>\n",
              "      <td>-0.025265</td>\n",
              "      <td>0.235663</td>\n",
              "      <td>0.010974</td>\n",
              "    </tr>\n",
              "    <tr>\n",
              "      <th>2021-08-01</th>\n",
              "      <td>0.041775</td>\n",
              "      <td>-0.003478</td>\n",
              "      <td>0.138028</td>\n",
              "      <td>0.121331</td>\n",
              "      <td>0.068224</td>\n",
              "    </tr>\n",
              "    <tr>\n",
              "      <th>2021-09-01</th>\n",
              "      <td>-0.073247</td>\n",
              "      <td>0.021503</td>\n",
              "      <td>-0.077308</td>\n",
              "      <td>0.064256</td>\n",
              "      <td>0.052633</td>\n",
              "    </tr>\n",
              "    <tr>\n",
              "      <th>2021-10-01</th>\n",
              "      <td>0.155649</td>\n",
              "      <td>-0.041852</td>\n",
              "      <td>0.210396</td>\n",
              "      <td>0.157372</td>\n",
              "      <td>0.362230</td>\n",
              "    </tr>\n",
              "    <tr>\n",
              "      <th>2021-11-01</th>\n",
              "      <td>0.275527</td>\n",
              "      <td>-0.001960</td>\n",
              "      <td>0.245338</td>\n",
              "      <td>-0.196713</td>\n",
              "      <td>0.027238</td>\n",
              "    </tr>\n",
              "    <tr>\n",
              "      <th>2021-12-01</th>\n",
              "      <td>-0.095815</td>\n",
              "      <td>0.060726</td>\n",
              "      <td>-0.105272</td>\n",
              "      <td>0.013120</td>\n",
              "      <td>-0.079968</td>\n",
              "    </tr>\n",
              "    <tr>\n",
              "      <th>2022-01-01</th>\n",
              "      <td>-0.230730</td>\n",
              "      <td>-0.022289</td>\n",
              "      <td>-0.183145</td>\n",
              "      <td>-0.161768</td>\n",
              "      <td>-0.120597</td>\n",
              "    </tr>\n",
              "    <tr>\n",
              "      <th>2022-02-01</th>\n",
              "      <td>0.076556</td>\n",
              "      <td>0.014810</td>\n",
              "      <td>-0.004133</td>\n",
              "      <td>-0.059123</td>\n",
              "      <td>-0.073397</td>\n",
              "    </tr>\n",
              "    <tr>\n",
              "      <th>2022-03-01</th>\n",
              "      <td>-0.120482</td>\n",
              "      <td>0.017435</td>\n",
              "      <td>0.112405</td>\n",
              "      <td>-0.039668</td>\n",
              "      <td>0.213504</td>\n",
              "    </tr>\n",
              "    <tr>\n",
              "      <th>2022-04-01</th>\n",
              "      <td>-0.245712</td>\n",
              "      <td>0.060324</td>\n",
              "      <td>-0.385895</td>\n",
              "      <td>-0.267657</td>\n",
              "      <td>-0.213125</td>\n",
              "    </tr>\n",
              "    <tr>\n",
              "      <th>2022-05-01</th>\n",
              "      <td>0.174849</td>\n",
              "      <td>0.017940</td>\n",
              "      <td>0.006717</td>\n",
              "      <td>-0.237389</td>\n",
              "      <td>-0.138340</td>\n",
              "    </tr>\n",
              "    <tr>\n",
              "      <th>2022-06-01</th>\n",
              "      <td>-0.286701</td>\n",
              "      <td>0.031026</td>\n",
              "      <td>-0.208431</td>\n",
              "      <td>0.055289</td>\n",
              "      <td>-0.118657</td>\n",
              "    </tr>\n",
              "    <tr>\n",
              "      <th>2022-07-01</th>\n",
              "      <td>0.211384</td>\n",
              "      <td>0.035526</td>\n",
              "      <td>0.181003</td>\n",
              "      <td>0.110619</td>\n",
              "      <td>0.280480</td>\n",
              "    </tr>\n",
              "    <tr>\n",
              "      <th>2022-08-01</th>\n",
              "      <td>-0.107162</td>\n",
              "      <td>-0.016092</td>\n",
              "      <td>-0.185089</td>\n",
              "      <td>0.168193</td>\n",
              "      <td>-0.075250</td>\n",
              "    </tr>\n",
              "    <tr>\n",
              "      <th>2022-09-01</th>\n",
              "      <td>-0.292288</td>\n",
              "      <td>-0.035172</td>\n",
              "      <td>-0.217874</td>\n",
              "      <td>-0.162144</td>\n",
              "      <td>-0.038314</td>\n",
              "    </tr>\n",
              "    <tr>\n",
              "      <th>2022-10-01</th>\n",
              "      <td>-0.053489</td>\n",
              "      <td>0.097839</td>\n",
              "      <td>0.106341</td>\n",
              "      <td>-0.038038</td>\n",
              "      <td>-0.153347</td>\n",
              "    </tr>\n",
              "    <tr>\n",
              "      <th>2022-11-01</th>\n",
              "      <td>0.256610</td>\n",
              "      <td>-0.051691</td>\n",
              "      <td>0.226206</td>\n",
              "      <td>-0.432488</td>\n",
              "      <td>-0.155866</td>\n",
              "    </tr>\n",
              "    <tr>\n",
              "      <th>2022-12-01</th>\n",
              "      <td>-0.181111</td>\n",
              "      <td>-0.015537</td>\n",
              "      <td>-0.146438</td>\n",
              "      <td>-0.022058</td>\n",
              "      <td>-0.457813</td>\n",
              "    </tr>\n",
              "  </tbody>\n",
              "</table>\n",
              "</div>\n",
              "      <button class=\"colab-df-convert\" onclick=\"convertToInteractive('df-15381fde-00a7-4ff6-89cb-e9d4fa37c740')\"\n",
              "              title=\"Convert this dataframe to an interactive table.\"\n",
              "              style=\"display:none;\">\n",
              "        \n",
              "  <svg xmlns=\"http://www.w3.org/2000/svg\" height=\"24px\"viewBox=\"0 0 24 24\"\n",
              "       width=\"24px\">\n",
              "    <path d=\"M0 0h24v24H0V0z\" fill=\"none\"/>\n",
              "    <path d=\"M18.56 5.44l.94 2.06.94-2.06 2.06-.94-2.06-.94-.94-2.06-.94 2.06-2.06.94zm-11 1L8.5 8.5l.94-2.06 2.06-.94-2.06-.94L8.5 2.5l-.94 2.06-2.06.94zm10 10l.94 2.06.94-2.06 2.06-.94-2.06-.94-.94-2.06-.94 2.06-2.06.94z\"/><path d=\"M17.41 7.96l-1.37-1.37c-.4-.4-.92-.59-1.43-.59-.52 0-1.04.2-1.43.59L10.3 9.45l-7.72 7.72c-.78.78-.78 2.05 0 2.83L4 21.41c.39.39.9.59 1.41.59.51 0 1.02-.2 1.41-.59l7.78-7.78 2.81-2.81c.8-.78.8-2.07 0-2.86zM5.41 20L4 18.59l7.72-7.72 1.47 1.35L5.41 20z\"/>\n",
              "  </svg>\n",
              "      </button>\n",
              "      \n",
              "  <style>\n",
              "    .colab-df-container {\n",
              "      display:flex;\n",
              "      flex-wrap:wrap;\n",
              "      gap: 12px;\n",
              "    }\n",
              "\n",
              "    .colab-df-convert {\n",
              "      background-color: #E8F0FE;\n",
              "      border: none;\n",
              "      border-radius: 50%;\n",
              "      cursor: pointer;\n",
              "      display: none;\n",
              "      fill: #1967D2;\n",
              "      height: 32px;\n",
              "      padding: 0 0 0 0;\n",
              "      width: 32px;\n",
              "    }\n",
              "\n",
              "    .colab-df-convert:hover {\n",
              "      background-color: #E2EBFA;\n",
              "      box-shadow: 0px 1px 2px rgba(60, 64, 67, 0.3), 0px 1px 3px 1px rgba(60, 64, 67, 0.15);\n",
              "      fill: #174EA6;\n",
              "    }\n",
              "\n",
              "    [theme=dark] .colab-df-convert {\n",
              "      background-color: #3B4455;\n",
              "      fill: #D2E3FC;\n",
              "    }\n",
              "\n",
              "    [theme=dark] .colab-df-convert:hover {\n",
              "      background-color: #434B5C;\n",
              "      box-shadow: 0px 1px 3px 1px rgba(0, 0, 0, 0.15);\n",
              "      filter: drop-shadow(0px 1px 2px rgba(0, 0, 0, 0.3));\n",
              "      fill: #FFFFFF;\n",
              "    }\n",
              "  </style>\n",
              "\n",
              "      <script>\n",
              "        const buttonEl =\n",
              "          document.querySelector('#df-15381fde-00a7-4ff6-89cb-e9d4fa37c740 button.colab-df-convert');\n",
              "        buttonEl.style.display =\n",
              "          google.colab.kernel.accessAllowed ? 'block' : 'none';\n",
              "\n",
              "        async function convertToInteractive(key) {\n",
              "          const element = document.querySelector('#df-15381fde-00a7-4ff6-89cb-e9d4fa37c740');\n",
              "          const dataTable =\n",
              "            await google.colab.kernel.invokeFunction('convertToInteractive',\n",
              "                                                     [key], {});\n",
              "          if (!dataTable) return;\n",
              "\n",
              "          const docLinkHtml = 'Like what you see? Visit the ' +\n",
              "            '<a target=\"_blank\" href=https://colab.research.google.com/notebooks/data_table.ipynb>data table notebook</a>'\n",
              "            + ' to learn more about interactive tables.';\n",
              "          element.innerHTML = '';\n",
              "          dataTable['output_type'] = 'display_data';\n",
              "          await google.colab.output.renderOutput(dataTable, element);\n",
              "          const docLink = document.createElement('div');\n",
              "          docLink.innerHTML = docLinkHtml;\n",
              "          element.appendChild(docLink);\n",
              "        }\n",
              "      </script>\n",
              "    </div>\n",
              "  </div>\n",
              "  "
            ]
          },
          "metadata": {},
          "execution_count": 208
        }
      ]
    },
    {
      "cell_type": "code",
      "source": [
        "resumen = pd.concat([mu, sigma ], axis=1)\n",
        "resumen.set_axis([\"Retornos\",\"Volatilidades\"], axis=1)"
      ],
      "metadata": {
        "colab": {
          "base_uri": "https://localhost:8080/",
          "height": 206
        },
        "id": "Pbfmw47zUknd",
        "outputId": "f787fe6c-bb25-4808-8990-9d7faf7d942e"
      },
      "execution_count": null,
      "outputs": [
        {
          "output_type": "execute_result",
          "data": {
            "text/plain": [
              "      Retornos  Volatilidades\n",
              "AMD   0.030677       0.172335\n",
              "K     0.003740       0.052844\n",
              "NVDA  0.018595       0.145484\n",
              "TEAM  0.017320       0.127523\n",
              "TSLA  0.029680       0.196036"
            ],
            "text/html": [
              "\n",
              "  <div id=\"df-6cc7cefc-471e-4c75-89c4-4558df707b2b\">\n",
              "    <div class=\"colab-df-container\">\n",
              "      <div>\n",
              "<style scoped>\n",
              "    .dataframe tbody tr th:only-of-type {\n",
              "        vertical-align: middle;\n",
              "    }\n",
              "\n",
              "    .dataframe tbody tr th {\n",
              "        vertical-align: top;\n",
              "    }\n",
              "\n",
              "    .dataframe thead th {\n",
              "        text-align: right;\n",
              "    }\n",
              "</style>\n",
              "<table border=\"1\" class=\"dataframe\">\n",
              "  <thead>\n",
              "    <tr style=\"text-align: right;\">\n",
              "      <th></th>\n",
              "      <th>Retornos</th>\n",
              "      <th>Volatilidades</th>\n",
              "    </tr>\n",
              "  </thead>\n",
              "  <tbody>\n",
              "    <tr>\n",
              "      <th>AMD</th>\n",
              "      <td>0.030677</td>\n",
              "      <td>0.172335</td>\n",
              "    </tr>\n",
              "    <tr>\n",
              "      <th>K</th>\n",
              "      <td>0.003740</td>\n",
              "      <td>0.052844</td>\n",
              "    </tr>\n",
              "    <tr>\n",
              "      <th>NVDA</th>\n",
              "      <td>0.018595</td>\n",
              "      <td>0.145484</td>\n",
              "    </tr>\n",
              "    <tr>\n",
              "      <th>TEAM</th>\n",
              "      <td>0.017320</td>\n",
              "      <td>0.127523</td>\n",
              "    </tr>\n",
              "    <tr>\n",
              "      <th>TSLA</th>\n",
              "      <td>0.029680</td>\n",
              "      <td>0.196036</td>\n",
              "    </tr>\n",
              "  </tbody>\n",
              "</table>\n",
              "</div>\n",
              "      <button class=\"colab-df-convert\" onclick=\"convertToInteractive('df-6cc7cefc-471e-4c75-89c4-4558df707b2b')\"\n",
              "              title=\"Convert this dataframe to an interactive table.\"\n",
              "              style=\"display:none;\">\n",
              "        \n",
              "  <svg xmlns=\"http://www.w3.org/2000/svg\" height=\"24px\"viewBox=\"0 0 24 24\"\n",
              "       width=\"24px\">\n",
              "    <path d=\"M0 0h24v24H0V0z\" fill=\"none\"/>\n",
              "    <path d=\"M18.56 5.44l.94 2.06.94-2.06 2.06-.94-2.06-.94-.94-2.06-.94 2.06-2.06.94zm-11 1L8.5 8.5l.94-2.06 2.06-.94-2.06-.94L8.5 2.5l-.94 2.06-2.06.94zm10 10l.94 2.06.94-2.06 2.06-.94-2.06-.94-.94-2.06-.94 2.06-2.06.94z\"/><path d=\"M17.41 7.96l-1.37-1.37c-.4-.4-.92-.59-1.43-.59-.52 0-1.04.2-1.43.59L10.3 9.45l-7.72 7.72c-.78.78-.78 2.05 0 2.83L4 21.41c.39.39.9.59 1.41.59.51 0 1.02-.2 1.41-.59l7.78-7.78 2.81-2.81c.8-.78.8-2.07 0-2.86zM5.41 20L4 18.59l7.72-7.72 1.47 1.35L5.41 20z\"/>\n",
              "  </svg>\n",
              "      </button>\n",
              "      \n",
              "  <style>\n",
              "    .colab-df-container {\n",
              "      display:flex;\n",
              "      flex-wrap:wrap;\n",
              "      gap: 12px;\n",
              "    }\n",
              "\n",
              "    .colab-df-convert {\n",
              "      background-color: #E8F0FE;\n",
              "      border: none;\n",
              "      border-radius: 50%;\n",
              "      cursor: pointer;\n",
              "      display: none;\n",
              "      fill: #1967D2;\n",
              "      height: 32px;\n",
              "      padding: 0 0 0 0;\n",
              "      width: 32px;\n",
              "    }\n",
              "\n",
              "    .colab-df-convert:hover {\n",
              "      background-color: #E2EBFA;\n",
              "      box-shadow: 0px 1px 2px rgba(60, 64, 67, 0.3), 0px 1px 3px 1px rgba(60, 64, 67, 0.15);\n",
              "      fill: #174EA6;\n",
              "    }\n",
              "\n",
              "    [theme=dark] .colab-df-convert {\n",
              "      background-color: #3B4455;\n",
              "      fill: #D2E3FC;\n",
              "    }\n",
              "\n",
              "    [theme=dark] .colab-df-convert:hover {\n",
              "      background-color: #434B5C;\n",
              "      box-shadow: 0px 1px 3px 1px rgba(0, 0, 0, 0.15);\n",
              "      filter: drop-shadow(0px 1px 2px rgba(0, 0, 0, 0.3));\n",
              "      fill: #FFFFFF;\n",
              "    }\n",
              "  </style>\n",
              "\n",
              "      <script>\n",
              "        const buttonEl =\n",
              "          document.querySelector('#df-6cc7cefc-471e-4c75-89c4-4558df707b2b button.colab-df-convert');\n",
              "        buttonEl.style.display =\n",
              "          google.colab.kernel.accessAllowed ? 'block' : 'none';\n",
              "\n",
              "        async function convertToInteractive(key) {\n",
              "          const element = document.querySelector('#df-6cc7cefc-471e-4c75-89c4-4558df707b2b');\n",
              "          const dataTable =\n",
              "            await google.colab.kernel.invokeFunction('convertToInteractive',\n",
              "                                                     [key], {});\n",
              "          if (!dataTable) return;\n",
              "\n",
              "          const docLinkHtml = 'Like what you see? Visit the ' +\n",
              "            '<a target=\"_blank\" href=https://colab.research.google.com/notebooks/data_table.ipynb>data table notebook</a>'\n",
              "            + ' to learn more about interactive tables.';\n",
              "          element.innerHTML = '';\n",
              "          dataTable['output_type'] = 'display_data';\n",
              "          await google.colab.output.renderOutput(dataTable, element);\n",
              "          const docLink = document.createElement('div');\n",
              "          docLink.innerHTML = docLinkHtml;\n",
              "          element.appendChild(docLink);\n",
              "        }\n",
              "      </script>\n",
              "    </div>\n",
              "  </div>\n",
              "  "
            ]
          },
          "metadata": {},
          "execution_count": 209
        }
      ]
    },
    {
      "cell_type": "markdown",
      "source": [
        "Mínima Varianza Global"
      ],
      "metadata": {
        "id": "lt38G-gZexhi"
      }
    },
    {
      "cell_type": "code",
      "source": [
        "n= len(mu)\n",
        "x = cp.Variable(n)\n",
        "objetivo = cp.Minimize(cp.quad_form(x, cov))\n",
        "restricciones = [cp.sum(x) == 1, x >= 0]\n",
        "prob = cp.Problem(objetivo, restricciones)\n",
        "prob.solve()\n",
        "wpmvg = x.value\n",
        "wpmvg"
      ],
      "metadata": {
        "colab": {
          "base_uri": "https://localhost:8080/"
        },
        "id": "v_xdJzlnPMQH",
        "outputId": "0e4c6c81-55f1-4719-aa05-b73d0f2beea2"
      },
      "execution_count": null,
      "outputs": [
        {
          "output_type": "execute_result",
          "data": {
            "text/plain": [
              "array([7.67112105e-22, 8.35370476e-01, 2.43525651e-02, 1.40276958e-01,\n",
              "       3.28092230e-22])"
            ]
          },
          "metadata": {},
          "execution_count": 210
        }
      ]
    },
    {
      "cell_type": "markdown",
      "source": [
        "Mínima varianza global random"
      ],
      "metadata": {
        "id": "igetfIzPP94A"
      }
    },
    {
      "cell_type": "code",
      "source": [
        "port_rand = 100000\n",
        "weights = np.zeros((port_rand, n))\n",
        "\n",
        "for i in range(port_rand):\n",
        "    w = np.random.random(n)\n",
        "    w = w / np.sum(w)           \n",
        "    weights[i,:] = w"
      ],
      "metadata": {
        "id": "pUr1Ghiue3ns"
      },
      "execution_count": null,
      "outputs": []
    },
    {
      "cell_type": "code",
      "source": [
        "rand_rpmvg = weights @ mu\n",
        "rand_sigmamvg = np.zeros(port_rand)\n",
        "for i in range(port_rand):\n",
        "  rand_sigmamvg[i] = np.sqrt(weights[i,:].T @ cov @ weights[i,:])"
      ],
      "metadata": {
        "id": "ysw7rx0V9uE9"
      },
      "execution_count": null,
      "outputs": []
    },
    {
      "cell_type": "code",
      "source": [
        "mvg_portfolio = np.argmin(rand_sigmamvg)\n",
        "mvg_weights = weights[mvg_portfolio,:]\n",
        "wpmvg = wpmvg.round(3)\n",
        "mvg_weights = mvg_weights.round(3)\n",
        "mvg_weights, wpmvg"
      ],
      "metadata": {
        "colab": {
          "base_uri": "https://localhost:8080/"
        },
        "id": "FeYZclAn9wKf",
        "outputId": "7412fa2a-15e9-4368-f077-e843baa8f77a"
      },
      "execution_count": null,
      "outputs": [
        {
          "output_type": "execute_result",
          "data": {
            "text/plain": [
              "(array([0.023, 0.788, 0.017, 0.155, 0.017]),\n",
              " array([0.   , 0.835, 0.024, 0.14 , 0.   ]))"
            ]
          },
          "metadata": {},
          "execution_count": 213
        }
      ]
    },
    {
      "cell_type": "code",
      "source": [
        "plt.figure(figsize = (4, 3))\n",
        "plt.bar(activos, wpmvg, width = 0.4)\n",
        "plt.ylabel(\"Part. (%)\")\n",
        "plt.show();"
      ],
      "metadata": {
        "colab": {
          "base_uri": "https://localhost:8080/",
          "height": 291
        },
        "id": "ktks9CckTAwY",
        "outputId": "e9774543-cd89-4dd1-cbcc-7e222f8577dc"
      },
      "execution_count": null,
      "outputs": [
        {
          "output_type": "display_data",
          "data": {
            "text/plain": [
              "<Figure size 400x300 with 1 Axes>"
            ],
            "image/png": "[encoded data removed]"
          },
          "metadata": {}
        }
      ]
    },
    {
      "cell_type": "code",
      "source": [
        "plt.figure(figsize = (4, 3))\n",
        "plt.bar(activos, mvg_weights, width = 0.4)\n",
        "plt.ylabel(\"Part. (%)\")\n",
        "plt.show();"
      ],
      "metadata": {
        "colab": {
          "base_uri": "https://localhost:8080/",
          "height": 291
        },
        "id": "J9qmVlXVTeQx",
        "outputId": "a05af73c-09f6-42ca-df76-60d5dfd7b851"
      },
      "execution_count": null,
      "outputs": [
        {
          "output_type": "display_data",
          "data": {
            "text/plain": [
              "<Figure size 400x300 with 1 Axes>"
            ],
            "image/png": "[encoded data removed]"
          },
          "metadata": {}
        }
      ]
    },
    {
      "cell_type": "markdown",
      "source": [
        "En ambas gráficas el activo que más peso obtiene es Kellogg's, que curiosamente es el que menor retorno tiene. Se confirma la similitud entre los métodos, pues las gráficas son bastante parecidas."
      ],
      "metadata": {
        "id": "kXsSiS5u91b2"
      }
    },
    {
      "cell_type": "markdown",
      "source": [
        "Sharpe"
      ],
      "metadata": {
        "id": "4DEWlLvOR8QG"
      }
    },
    {
      "cell_type": "code",
      "source": [
        "n = len(mu)\n",
        "x = cp.Variable(n)\n",
        "objetivo = cp.Minimize(cp.quad_form(x, cov))\n",
        "restricciones = [x @ mu == 1, x >= 0]\n",
        "prob = cp.Problem(objetivo, restricciones)\n",
        "prob.solve()\n",
        "wpt = x.value/x.value.sum()\n",
        "wpt"
      ],
      "metadata": {
        "id": "Bo8CUKjRUKQk",
        "colab": {
          "base_uri": "https://localhost:8080/"
        },
        "outputId": "fbcfe564-3091-4529-c708-3289c7a12dff"
      },
      "execution_count": 4,
      "outputs": [
        {
          "output_type": "execute_result",
          "data": {
            "text/plain": [
              "array([3.05933654e-01, 2.47948877e-01, 5.11977048e-24, 2.41164104e-01,\n",
              "       2.04953364e-01])"
            ]
          },
          "metadata": {},
          "execution_count": 4
        }
      ]
    },
    {
      "cell_type": "code",
      "source": [
        "# Retornos históricos del portafolio tangente:\n",
        "ret_port = retornos @ wpt\n",
        "rpt = ret_port.mean()\n",
        "sigmapt = ret_port.std()\n",
        "rpt*12, sigmapt*np.sqrt(12)"
      ],
      "metadata": {
        "id": "KvApvDV1VrfK",
        "colab": {
          "base_uri": "https://localhost:8080/"
        },
        "outputId": "ede9d316-d4cf-4542-d8db-e08d2bb745c0"
      },
      "execution_count": 5,
      "outputs": [
        {
          "output_type": "execute_result",
          "data": {
            "text/plain": [
              "(0.24687000108772128, 0.3271112921335376)"
            ]
          },
          "metadata": {},
          "execution_count": 5
        }
      ]
    },
    {
      "cell_type": "markdown",
      "source": [
        "Sharpe Random"
      ],
      "metadata": {
        "id": "gw9xWKPmV2sK"
      }
    },
    {
      "cell_type": "code",
      "source": [
        "port_rand = 100000\n",
        "weights = np.zeros((port_rand, n))\n",
        "\n",
        "for i in range(port_rand):\n",
        "    w = np.random.random(n)\n",
        "    w = w / np.sum(w)           \n",
        "    weights[i,:] = w    "
      ],
      "metadata": {
        "id": "xafLt3nMV5ei"
      },
      "execution_count": null,
      "outputs": []
    },
    {
      "cell_type": "code",
      "source": [
        "rand_rpt = weights @ mu\n",
        "rand_sigmapt = np.zeros(port_rand)\n",
        "for i in range(port_rand):\n",
        "  rand_sigmapt[i] = np.sqrt(weights[i,:].T @ cov @ weights[i,:])"
      ],
      "metadata": {
        "id": "M8zdnjlsV_H8"
      },
      "execution_count": null,
      "outputs": []
    },
    {
      "cell_type": "code",
      "source": [
        "sharpe_ratio = rand_rpt / rand_sigmapt\n",
        "tangent_portfolio = np.argmax(sharpe_ratio)\n",
        "tangent_weights = weights[tangent_portfolio,:]\n",
        "wpt = wpt.round(3)\n",
        "tangent_weights = tangent_weights.round(3)\n",
        "tangent_weights, wpt"
      ],
      "metadata": {
        "id": "v1_m14MLWDHa",
        "colab": {
          "base_uri": "https://localhost:8080/"
        },
        "outputId": "13950571-3a60-4d9b-8736-a153322cc91e"
      },
      "execution_count": null,
      "outputs": [
        {
          "output_type": "execute_result",
          "data": {
            "text/plain": [
              "(array([0.311, 0.231, 0.006, 0.25 , 0.203]),\n",
              " array([0.306, 0.248, 0.   , 0.241, 0.205]))"
            ]
          },
          "metadata": {},
          "execution_count": 220
        }
      ]
    },
    {
      "cell_type": "code",
      "source": [
        "plt.figure(figsize = (4, 3))\n",
        "plt.bar(activos, wpt, width = 0.4)\n",
        "plt.ylabel(\"Part. (%)\")\n",
        "plt.show();"
      ],
      "metadata": {
        "colab": {
          "base_uri": "https://localhost:8080/",
          "height": 291
        },
        "id": "WbgIQa1ET--k",
        "outputId": "5ac113d9-2b50-403b-d3ec-815efb005838"
      },
      "execution_count": null,
      "outputs": [
        {
          "output_type": "display_data",
          "data": {
            "text/plain": [
              "<Figure size 400x300 with 1 Axes>"
            ],
            "image/png": "[encoded data removed]"
          },
          "metadata": {}
        }
      ]
    },
    {
      "cell_type": "code",
      "source": [
        "plt.figure(figsize = (4, 3))\n",
        "plt.bar(activos, tangent_weights, width = 0.4)\n",
        "plt.ylabel(\"Part. (%)\")\n",
        "plt.show();"
      ],
      "metadata": {
        "colab": {
          "base_uri": "https://localhost:8080/",
          "height": 291
        },
        "id": "LbvEu5o8UFg_",
        "outputId": "c7bbdc82-1897-4b82-aa3c-967fb5c0a01a"
      },
      "execution_count": null,
      "outputs": [
        {
          "output_type": "display_data",
          "data": {
            "text/plain": [
              "<Figure size 400x300 with 1 Axes>"
            ],
            "image/png": "[encoded data removed]"
          },
          "metadata": {}
        }
      ]
    },
    {
      "cell_type": "markdown",
      "source": [
        "En el caso del portafolio tangente de Sharpe, se distribuyeron los pesos de manera más uniforme, siendo NVIDIA la que menos peso obtuvo; prácticamente nada. Además ambas gráficas son muy similares, por lo que se confirma que ambos métodos obtienen resultados similares."
      ],
      "metadata": {
        "id": "p6zyt2Hl-YH1"
      }
    },
    {
      "cell_type": "markdown",
      "source": [
        "VaR"
      ],
      "metadata": {
        "id": "E6BMayvvcrZE"
      }
    },
    {
      "cell_type": "code",
      "source": [
        "alpha2 = 0.05                               \n",
        "VaRp = rpt - norm.ppf(1-alpha2)*sigmapt\n",
        "VaRp"
      ],
      "metadata": {
        "id": "TOhqKgUzdOHz",
        "colab": {
          "base_uri": "https://localhost:8080/"
        },
        "outputId": "dac8a24d-5224-4122-c300-ed5bf62158c8"
      },
      "execution_count": 6,
      "outputs": [
        {
          "output_type": "execute_result",
          "data": {
            "text/plain": [
              "-0.1347492124513357"
            ]
          },
          "metadata": {},
          "execution_count": 6
        }
      ]
    },
    {
      "cell_type": "markdown",
      "source": [
        "VaR random"
      ],
      "metadata": {
        "id": "f0huIiHaQNjw"
      }
    },
    {
      "cell_type": "code",
      "source": [
        "n_port = 100000                            \n",
        "ma_pt = np.random.normal(rpt,sigmapt, n_port)\n",
        "VaR_sim = ma_pt.mean() - norm.ppf(1-alpha2)*ma_pt.std()\n",
        "VaRp, VaR_sim"
      ],
      "metadata": {
        "id": "7DrTtMIGdamK",
        "colab": {
          "base_uri": "https://localhost:8080/"
        },
        "outputId": "11bac717-8f3e-4054-f10b-e41c668b4678"
      },
      "execution_count": 7,
      "outputs": [
        {
          "output_type": "execute_result",
          "data": {
            "text/plain": [
              "(-0.1347492124513357, -0.13519128416553625)"
            ]
          },
          "metadata": {},
          "execution_count": 7
        }
      ]
    },
    {
      "cell_type": "code",
      "source": [
        "plt.figure(figsize=(4,3))\n",
        "plt.hist(ret_port, bins='sturges',density=True)\n",
        "xmin, xmax = plt.xlim()\n",
        "x = np.linspace(xmin*0.9, xmax*1.1, 100)\n",
        "p = norm.pdf(x, rpt, sigmapt)\n",
        "plt.plot(x, p, 'k')                               \n",
        "plt.axvline(VaRp, color='r', label='VaRp 95%')\n",
        "plt.axvline(VaR_sim, color='b', label='VaR_sim 95%')\n",
        "plt.legend(loc='upper right')\n",
        "plt.show()"
      ],
      "metadata": {
        "colab": {
          "base_uri": "https://localhost:8080/",
          "height": 291
        },
        "id": "eHMNFaJ-UM91",
        "outputId": "d3241267-eb0c-49e2-9e85-8e9415e4bb93"
      },
      "execution_count": 8,
      "outputs": [
        {
          "output_type": "display_data",
          "data": {
            "text/plain": [
              "<Figure size 400x300 with 1 Axes>"
            ],
            "image/png": "[encoded data removed]"
          },
          "metadata": {}
        }
      ]
    },
    {
      "cell_type": "markdown",
      "source": [
        "En la gráfica del VaR no se aprecia la diferencia entre las lineas que indican el riesgo. Se confirma la similitud entre los métodos."
      ],
      "metadata": {
        "id": "VcD2kFBH-ylf"
      }
    },
    {
      "cell_type": "markdown",
      "source": [
        "Omega"
      ],
      "metadata": {
        "id": "1q4dbgW6eL28"
      }
    },
    {
      "cell_type": "markdown",
      "source": [
        "Omega Monte Carlo"
      ],
      "metadata": {
        "id": "_1JkTa7heNJD"
      }
    },
    {
      "cell_type": "code",
      "source": [
        "t = len(retornos.iloc[:,1])\n",
        "rand_returns = np.zeros((t,port_rand))\n",
        "for i in range(port_rand):\n",
        "  rand_returns[:,i] = retornos @ weights[i,:]"
      ],
      "metadata": {
        "id": "1AsEGkadeP2z"
      },
      "execution_count": null,
      "outputs": []
    },
    {
      "cell_type": "code",
      "source": [
        "h=0\n",
        "omega_port = np.zeros(port_rand)\n",
        "for i in range(port_rand):\n",
        "  excesos = rand_returns[:,i]-h\n",
        "  pos_ret = excesos[excesos>h].sum()\n",
        "  neg_ret = excesos[excesos<h].sum()\n",
        "  omega_port[i] = pos_ret / (-neg_ret )"
      ],
      "metadata": {
        "id": "7gXuBIASeZHx"
      },
      "execution_count": null,
      "outputs": []
    },
    {
      "cell_type": "code",
      "source": [
        "omega_portfolio = np.argmax(omega_port)\n",
        "omega_weights = weights[omega_portfolio,:]\n",
        "omega_weights"
      ],
      "metadata": {
        "id": "O516-qR-eaPh",
        "colab": {
          "base_uri": "https://localhost:8080/"
        },
        "outputId": "1f27f8d9-2c9a-4123-9745-c211650cadac"
      },
      "execution_count": null,
      "outputs": [
        {
          "output_type": "execute_result",
          "data": {
            "text/plain": [
              "array([0.37602788, 0.17811974, 0.00502245, 0.21927906, 0.22155087])"
            ]
          },
          "metadata": {},
          "execution_count": 228
        }
      ]
    },
    {
      "cell_type": "code",
      "source": [
        "plt.figure(figsize = (4, 3))\n",
        "plt.bar(activos, omega_weights, width = 0.4)\n",
        "plt.ylabel(\"Part. (%)\")\n",
        "plt.show();"
      ],
      "metadata": {
        "colab": {
          "base_uri": "https://localhost:8080/",
          "height": 291
        },
        "id": "hCEcaSTSjF_o",
        "outputId": "18de3dc2-994a-4031-b2ad-7e0cd84784ea"
      },
      "execution_count": null,
      "outputs": [
        {
          "output_type": "display_data",
          "data": {
            "text/plain": [
              "<Figure size 400x300 with 1 Axes>"
            ],
            "image/png": "[encoded data removed]"
          },
          "metadata": {}
        }
      ]
    },
    {
      "cell_type": "markdown",
      "source": [
        "En esta gráfica se le asignó más peso a Atlassian, mientras que Kellogg's, AMD y Tesla obtuvieron pesos similares. A Nvidia no se le asigno practicamente peso."
      ],
      "metadata": {
        "id": "EV2cojAPADHX"
      }
    },
    {
      "cell_type": "markdown",
      "source": [
        "Sortino"
      ],
      "metadata": {
        "id": "4i89R_WNfn4y"
      }
    },
    {
      "cell_type": "code",
      "source": [
        "n = len(mu)\n",
        "x = cp.Variable(n)\n",
        "target = 0.05\n",
        "\n",
        "rneg = retornos[retornos < target ]\n",
        "objetivo = cp.Minimize(cp.quad_form(x, rneg.cov()))\n",
        "restricciones = [cp.sum(x) == 1, x >= 0]\n",
        "prob = cp.Problem(objetivo, restricciones)\n",
        "prob.solve()\n",
        "\n",
        "ws = x.value\n",
        "ws.round(10)\n"
      ],
      "metadata": {
        "id": "QSHofohWfsj6",
        "colab": {
          "base_uri": "https://localhost:8080/"
        },
        "outputId": "de9dba1f-3dc2-4812-b37d-47c21df1b76f"
      },
      "execution_count": null,
      "outputs": [
        {
          "output_type": "execute_result",
          "data": {
            "text/plain": [
              "array([ 0.        ,  0.77003394, -0.        ,  0.10892777,  0.12103829])"
            ]
          },
          "metadata": {},
          "execution_count": 249
        }
      ]
    },
    {
      "cell_type": "code",
      "source": [
        "plt.figure(figsize = (4, 3))\n",
        "plt.bar(activos,ws, width = 0.4)\n",
        "plt.ylabel(\"Part. (%)\")\n",
        "plt.show();"
      ],
      "metadata": {
        "colab": {
          "base_uri": "https://localhost:8080/",
          "height": 294
        },
        "id": "XixL-VQ6jLkG",
        "outputId": "7bed16d1-82f6-4229-d51a-4a1c13aa3fd4"
      },
      "execution_count": null,
      "outputs": [
        {
          "output_type": "display_data",
          "data": {
            "text/plain": [
              "<Figure size 400x300 with 1 Axes>"
            ],
            "image/png": "[encoded data removed]"
          },
          "metadata": {}
        }
      ]
    },
    {
      "cell_type": "code",
      "source": [
        "t = len(retornos.iloc[:,1])\n",
        "rand_returns = np.zeros((t,port_rand))\n",
        "for i in range(port_rand):\n",
        "  rand_returns[:,i] = retornos @ weights[i,:]"
      ],
      "metadata": {
        "id": "oiLh3fy9vUcP"
      },
      "execution_count": null,
      "outputs": []
    },
    {
      "cell_type": "code",
      "source": [
        "h=0\n",
        "sort_port = np.zeros(port_rand)\n",
        "for i in range(port_rand):\n",
        "  w = np.random.random(n)\n",
        "  w = w / np.sum(w)   \n",
        "  excesos = rand_returns[:,i]-h\n",
        "  port_ret = np.sum(mu*w)\n",
        "  neg_ret = excesos[excesos<h].sum()\n",
        "  sort_port[i] = port_ret / (-neg_ret )"
      ],
      "metadata": {
        "id": "VMHdWWXwvYw8"
      },
      "execution_count": null,
      "outputs": []
    },
    {
      "cell_type": "code",
      "source": [
        "sort_portfolio = np.argmax(sort_port)\n",
        "sort_weights = weights[sort_portfolio,:]\n",
        "sort_weights, ws.round(3)"
      ],
      "metadata": {
        "colab": {
          "base_uri": "https://localhost:8080/"
        },
        "id": "IpiX6chWvxZ7",
        "outputId": "18bf2d79-faf6-437d-9831-1c6fb9cd1d44"
      },
      "execution_count": null,
      "outputs": [
        {
          "output_type": "execute_result",
          "data": {
            "text/plain": [
              "(array([0.0397751 , 0.784644  , 0.03263648, 0.10409188, 0.03885254]),\n",
              " array([ 0.   ,  0.77 , -0.   ,  0.109,  0.121]))"
            ]
          },
          "metadata": {},
          "execution_count": 252
        }
      ]
    },
    {
      "cell_type": "code",
      "source": [
        "plt.figure(figsize = (4, 3))\n",
        "plt.bar(activos,sort_weights, width = 0.4)\n",
        "plt.ylabel(\"Part. (%)\")\n",
        "plt.show();"
      ],
      "metadata": {
        "colab": {
          "base_uri": "https://localhost:8080/",
          "height": 291
        },
        "id": "aV0-MAik8Jwr",
        "outputId": "c0de3cf7-3d95-4847-de0a-e1a0f91011b1"
      },
      "execution_count": null,
      "outputs": [
        {
          "output_type": "display_data",
          "data": {
            "text/plain": [
              "<Figure size 400x300 with 1 Axes>"
            ],
            "image/png": "[encoded data removed]"
          },
          "metadata": {}
        }
      ]
    },
    {
      "cell_type": "markdown",
      "source": [
        "En ambas gráficas del portafolio de Sortino al activo que más peso se le asignó fue Kellogg's, a las demás se les asignó bastante poco. Las gráficas son muy similares, lo que indica la similitud de los dos métodos."
      ],
      "metadata": {
        "id": "OZJ8zv-6AeOr"
      }
    },
    {
      "cell_type": "markdown",
      "source": [
        "Los resultados arrojados por el modelo fueron: en 3 de los portafolios se invierte una mayor cantidad en Kellogg's, en dos de los portafolios se diversifica la inversión en 4 de los activos, en ningún portafolio se invierte en envidia.\n",
        "\n",
        "El modelo muestra portafolios con diferentes niveles de riesgo y de retorno, el usuario puede elegir entre estos dependiendo de su nivel de adversidad al riesgo."
      ],
      "metadata": {
        "id": "zcqvR3Y0A7Mr"
      }
    }
  ]
}